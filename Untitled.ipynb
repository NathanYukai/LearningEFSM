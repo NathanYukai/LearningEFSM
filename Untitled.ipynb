{
 "cells": [
  {
   "cell_type": "code",
   "execution_count": 40,
   "metadata": {
    "collapsed": false
   },
   "outputs": [
    {
     "name": "stdout",
     "output_type": "stream",
     "text": [
      "haha\n",
      "\n"
     ]
    }
   ],
   "source": [
    "import subprocess\n",
    "\n",
    "\n",
    "#test if the trace is acceptable or not,\n",
    "#automata is the file name of automata in ASP\n",
    "def verify(trace, automata):\n",
    "    tst_str = \"(1,null),(2,null)\"\n",
    "    process = subprocess.check_output(\"echo 'haha'\", shell=True)\n",
    "\n",
    "    print process\n",
    "    \n",
    "# set of possible inputs, outputs and the length of trace\n",
    "def generate_trace(inputs,outputs,length):\n",
    "    print \"haha\"\n",
    "\n",
    "def write(trace):\n",
    "    with open('exp.lp','w+') as f:\n",
    "        f.write(\"hellow world\\n\")\n",
    "    \n",
    "verify(1,1)"
   ]
  },
  {
   "cell_type": "code",
   "execution_count": null,
   "metadata": {
    "collapsed": true
   },
   "outputs": [],
   "source": []
  },
  {
   "cell_type": "code",
   "execution_count": null,
   "metadata": {
    "collapsed": true
   },
   "outputs": [],
   "source": []
  }
 ],
 "metadata": {
  "kernelspec": {
   "display_name": "Python 2",
   "language": "python",
   "name": "python2"
  },
  "language_info": {
   "codemirror_mode": {
    "name": "ipython",
    "version": 2
   },
   "file_extension": ".py",
   "mimetype": "text/x-python",
   "name": "python",
   "nbconvert_exporter": "python",
   "pygments_lexer": "ipython2",
   "version": "2.7.12"
  }
 },
 "nbformat": 4,
 "nbformat_minor": 2
}
