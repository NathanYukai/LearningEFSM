{
 "cells": [
  {
   "cell_type": "code",
   "execution_count": 1,
   "metadata": {
    "collapsed": false
   },
   "outputs": [
    {
     "name": "stdout",
     "output_type": "stream",
     "text": [
      "Answer: 1\n",
      "st(1,start) st(2,start) st(3,start) st(4,ring) st(5,end) st(6,end) \n",
      "SATISFIABLE\n",
      "\n",
      "Models      : 1     \n",
      "Time        : 0.000\n",
      "  Prepare   : 0.000\n",
      "  Prepro.   : 0.000\n",
      "  Solving   : 0.000\n",
      "\n"
     ]
    }
   ],
   "source": [
    "import subprocess\n",
    "\n",
    "#test if the trace is acceptable or not,\n",
    "#automata is the file name of automata in ASP\n",
    "def verify(trace, automata):\n",
    "    script = 'clingo ~/LearningEFSM/asp_automatas/simple_alarm.lp'\n",
    "    process = subprocess.Popen(script,stdout=subprocess.PIPE,shell=True)\n",
    "    output = ''\n",
    "    a = process.stdout.readline() \n",
    "    while(a)  :\n",
    "        output = output + a\n",
    "        a = process.stdout.readline()\n",
    "    print output\n",
    "\n",
    "# set of possible inputs, outputs and the length of trace\n",
    "def generate_trace(inputs,outputs,length):\n",
    "    print \"haha\"\n",
    "\n",
    "    \n",
    "verify(1,1)\n",
    "\n",
    "\n"
   ]
  },
  {
   "cell_type": "code",
   "execution_count": null,
   "metadata": {
    "collapsed": true
   },
   "outputs": [],
   "source": []
  }
 ],
 "metadata": {
  "kernelspec": {
   "display_name": "Python 2",
   "language": "python",
   "name": "python2"
  },
  "language_info": {
   "codemirror_mode": {
    "name": "ipython",
    "version": 2
   },
   "file_extension": ".py",
   "mimetype": "text/x-python",
   "name": "python",
   "nbconvert_exporter": "python",
   "pygments_lexer": "ipython2",
   "version": "2.7.12"
  }
 },
 "nbformat": 4,
 "nbformat_minor": 2
}
