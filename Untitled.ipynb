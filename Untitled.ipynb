{
 "cells": [
  {
   "cell_type": "code",
   "execution_count": 18,
   "metadata": {
    "collapsed": false,
    "deletable": true,
    "editable": true
   },
   "outputs": [
    {
     "name": "stdout",
     "output_type": "stream",
     "text": [
      "\n",
      "False\n"
     ]
    }
   ],
   "source": [
    "import subprocess\n",
    "#test if the trace is acceptable or not,\n",
    "#automata is the file name of automata in ASP\n",
    "def verify(trace, automata):\n",
    "    trace = \"\"\n",
    "    for i in range(5):\n",
    "        trace += \"time(\"+str(i)+\").\"\n",
    "    with open('./trace_tmp.lp','w') as f:\n",
    "        f.write(trace)\n",
    "    script = './clingo ./trace_tmp.lp ./asp_automatas/simple_alarm.lp'\n",
    "    \n",
    "    process = subprocess.Popen(script,stdout=subprocess.PIPE,shell=True)\n",
    "    output = ''\n",
    "    a = process.stdout.readline()\n",
    "    result = False\n",
    "    while(a)  :\n",
    "        output += a\n",
    "        a = process.stdout.readline()\n",
    "        if (\"SATISFIABLE\" in a):\n",
    "            result = True\n",
    "    print output\n",
    "    return result\n",
    "\n",
    "# set of possible inputs, outputs and the length of trace\n",
    "def generate_trace(inputs,outputs,length):\n",
    "    print \"haha\"\n",
    "\n",
    "    \n",
    "print verify(1,1)\n",
    "\n",
    "\n"
   ]
  },
  {
   "cell_type": "code",
   "execution_count": null,
   "metadata": {
    "collapsed": true,
    "deletable": true,
    "editable": true
   },
   "outputs": [],
   "source": []
  }
 ],
 "metadata": {
  "kernelspec": {
   "display_name": "Python 2",
   "language": "python",
   "name": "python2"
  },
  "language_info": {
   "codemirror_mode": {
    "name": "ipython",
    "version": 2
   },
   "file_extension": ".py",
   "mimetype": "text/x-python",
   "name": "python",
   "nbconvert_exporter": "python",
   "pygments_lexer": "ipython2",
   "version": "2.7.12"
  }
 },
 "nbformat": 4,
 "nbformat_minor": 2
}
